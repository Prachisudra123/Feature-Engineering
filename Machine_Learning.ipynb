{
  "nbformat": 4,
  "nbformat_minor": 0,
  "metadata": {
    "colab": {
      "provenance": []
    },
    "kernelspec": {
      "name": "python3",
      "display_name": "Python 3"
    },
    "language_info": {
      "name": "python"
    }
  },
  "cells": [
    {
      "cell_type": "markdown",
      "source": [
        "# **Assignment Questions**"
      ],
      "metadata": {
        "id": "gtgqYhPOReQ6"
      }
    },
    {
      "cell_type": "markdown",
      "source": [
        "1. What is a parameter?"
      ],
      "metadata": {
        "id": "93_PqrbHRmzd"
      }
    },
    {
      "cell_type": "markdown",
      "source": [
        "--> a parameter is a value that the model learns from the training data.\n",
        "- These values define how the model makes predictions.\n",
        "- They are internal to the model and get updated during training.\n",
        "OR\n",
        "--> A parameter in machine learning is a learned value inside the model that determines how it makes predictions."
      ],
      "metadata": {
        "id": "2jFCV80OSNnB"
      }
    },
    {
      "cell_type": "markdown",
      "source": [
        "2. What is correlation? What does negative correlation mean?"
      ],
      "metadata": {
        "id": "MhwFODI8Sj-_"
      }
    },
    {
      "cell_type": "markdown",
      "source": [
        "--> correlation refers to the statistical relationship (or dependency) between two variables/features.\n",
        "- A negative correlation means that when one variable increases, the other decreases, and vice versa."
      ],
      "metadata": {
        "id": "rkSutAMoSzj5"
      }
    },
    {
      "cell_type": "markdown",
      "source": [
        "3. Define Machine Learning. What are the main components in Machine Learning?"
      ],
      "metadata": {
        "id": "ABCeBlemTYlc"
      }
    },
    {
      "cell_type": "markdown",
      "source": [
        "--> Machine Learning is a branch of Artificial Intelligence (AI) that enables systems to learn patterns and make decisions or predictions from data without being explicitly programmed.\n",
        "- Main Components of Machine Learning:\n",
        "1. Data\n",
        "2. Features (Input Variables)\n",
        "3. Model (Algorithm)\n",
        "4. Training (Learning Process)\n",
        "5. Loss Function (Error Measurement)\n",
        "6. Optimization Algorithm\n",
        "7. Evaluation (Testing & Validation)\n",
        "8. Prediction / Inference"
      ],
      "metadata": {
        "id": "yVdqYaStTdb7"
      }
    },
    {
      "cell_type": "markdown",
      "source": [
        "4. How does loss value help in determining whether the model is good or not?"
      ],
      "metadata": {
        "id": "YAnS9ZDEX6Qj"
      }
    },
    {
      "cell_type": "markdown",
      "source": [
        "--> What is Loss in Machine Learning:-\n",
        "- The loss value (also called cost or error) measures how far off a model’s predictions are from the actual target values.\n",
        "Example:\n",
        "- If the model predicts house price = ₹50L but the actual price = ₹60L → error = 10L.\n",
        "- The loss function aggregates such errors across all predictions.\n",
        "\n",
        "--> How Loss Value Helps to Judge Model Quality:\n",
        "1. Indicator of Accuracy:-\n",
        "A low loss value -> model’s predictions are close to actual outcomes.\n",
        "A high loss value -> model is making large errors.\n",
        "2. Model Comparison:-\n",
        "When training multiple models (say Decision Tree vs Neural Network), the one with lower loss on validation data is generally better.\n",
        "3. Overfitting/Underfitting Detection:-\n",
        "If training loss is low but validation loss is high → model is overfitting (memorizing training data but failing on new data).\n",
        "If both training & validation loss are high → model is underfitting (too simple, not learning patterns well).\n",
        "4. Guides Optimization:-\n",
        "Loss acts like a signal for optimization algorithms (e.g., Gradient Descent) to update model parameters.\n",
        "Each step reduces loss -> model gradually improves."
      ],
      "metadata": {
        "id": "TQL4DdjXYAAs"
      }
    },
    {
      "cell_type": "markdown",
      "source": [
        "5. What are continuous and categorical variables?"
      ],
      "metadata": {
        "id": "V8wxCCZAY8nP"
      }
    },
    {
      "cell_type": "markdown",
      "source": [
        "--> Continuous variables can have decimals/fractions and show a smooth scale.\n",
        "--> Definition: Variables that can take an infinite number of numerical values within a range.\n",
        "They are measurable quantities."
      ],
      "metadata": {
        "id": "m_GusONPZCjP"
      }
    },
    {
      "cell_type": "markdown",
      "source": [
        "6. How do we handle categorical variables in Machine Learning? What are the common techniques?"
      ],
      "metadata": {
        "id": "BfLVZgljZfzZ"
      }
    },
    {
      "cell_type": "markdown",
      "source": [
        "--> Common Techniques to Handle Categorical Variables:-\n",
        "1. Label Encoding:- Each category is assigned a unique integer.\n",
        "2. One-Hot Encoding:- Creates binary columns for each category.\n",
        "3. Ordinal Encoding:- Used when categories have a natural order.\n",
        "4. Target Encoding (Mean Encoding):-Replace each category with the mean of target values for that category.\n",
        "5. Frequency / Count Encoding:- Replace category with its frequency (count) in dataset.\n",
        "6. Binary Encoding:- Converts categories into binary code."
      ],
      "metadata": {
        "id": "GGkq8b1xZkn1"
      }
    },
    {
      "cell_type": "markdown",
      "source": [
        "7. What do you mean by training and testing a dataset?"
      ],
      "metadata": {
        "id": "igPMjmwHcx4r"
      }
    },
    {
      "cell_type": "markdown",
      "source": [
        "--> Definition: The part of the dataset used to teach the machine learning model.\n",
        "- The model “learns” patterns, relationships, and rules from this data by adjusting its internal parameters.\n",
        "- Example:- You give a model 70% of house price data (with features like area, location, rooms, etc.).\n",
        "The model learns how these features relate to house price.\n",
        "\n",
        "- Purpose: To build/fit the model.\n",
        "\n",
        "--> Testing Dataset\n",
        "Definition: The part of the dataset used to evaluate the model’s performance after training.\n",
        "The model has never seen this data before.\n",
        "- Example:-You test the trained model on the remaining 30% of house price data.\n",
        "The model predicts house prices, and you compare with the actual prices to see accuracy.\n",
        "- Purpose: To check if the model generalizes well to new/unseen data."
      ],
      "metadata": {
        "id": "r5_ZxG-Rc1ik"
      }
    },
    {
      "cell_type": "markdown",
      "source": [
        "8. What is sklearn.preprocessing?"
      ],
      "metadata": {
        "id": "8ze9aOTzdRlf"
      }
    },
    {
      "cell_type": "markdown",
      "source": [
        "--> This is a Python library feature widely used in ML projects.\n",
        "- sklearn.preprocessing is a module in Scikit-Learn (sklearn) that provides utility functions and classes to preprocess data before feeding it into a machine learning model.\n",
        "- In Machine Learning, raw data is rarely ready — it usually needs to be cleaned, normalized, encoded, or scaled.\n",
        "This module helps in doing all that efficiently."
      ],
      "metadata": {
        "id": "Tal8-OondVPs"
      }
    },
    {
      "cell_type": "markdown",
      "source": [
        "9. What is a Test set?\n"
      ],
      "metadata": {
        "id": "x5wr_sjidlfj"
      }
    },
    {
      "cell_type": "markdown",
      "source": [
        "--> The test set is a portion of the dataset that is kept aside and not used during training.\n",
        "- After training the model on the training set, the test set is used to check how well the model performs on unseen data."
      ],
      "metadata": {
        "id": "ifEC21k7dvkk"
      }
    },
    {
      "cell_type": "markdown",
      "source": [
        "10. How do we split data for model fitting (training and testing) in Python?How do you approach a Machine Learning problem?"
      ],
      "metadata": {
        "id": "004vWEmWd4Zq"
      }
    },
    {
      "cell_type": "markdown",
      "source": [
        "-->\n",
        "- Training Set → for training the model\n",
        "- Test Set → for evaluating model performance\n",
        "- (Optional) Validation Set → for tuning hyperparameters before testing.\n",
        "\n",
        "--> General Approach to a Machine Learning Problem:\n",
        "1. Understand the Problem.\n",
        "2. Collect and Explore the Data\n",
        "3. Preprocess the Data\n",
        "4. Feature Engineering\n",
        "5. Select the Right Model\n",
        "6. Train the Model\n",
        "7. Evaluate the Model\n",
        "8. Tune Hyperparameters\n",
        "9. Deploy the Model\n",
        "10. Monitor and Update"
      ],
      "metadata": {
        "id": "lhcBRpTaeALn"
      }
    },
    {
      "cell_type": "code",
      "source": [
        "# Splitting Data in Python with Scikit-Learn:\n",
        "from sklearn.model_selection import train_test_split\n",
        "import numpy as np\n",
        "\n",
        "# Example dataset (features and labels)\n",
        "X = np.array([[1], [2], [3], [4], [5], [6], [7], [8], [9], [10]])  # Features\n",
        "y = np.array([1, 2, 3, 4, 5, 6, 7, 8, 9, 10])  # Labels (targets)\n",
        "\n",
        "# Split data: 70% training, 30% testing\n",
        "X_train, X_test, y_train, y_test = train_test_split(\n",
        "    X, y, test_size=0.3, random_state=42\n",
        ")\n",
        "\n",
        "print(\"Training Data:\\n\", X_train)\n",
        "print(\"Testing Data:\\n\", X_test)\n"
      ],
      "metadata": {
        "colab": {
          "base_uri": "https://localhost:8080/"
        },
        "id": "0Lgcw9jieX3K",
        "outputId": "e29ad3e9-b7e3-46d2-cf7b-e1b42fe119c4"
      },
      "execution_count": 1,
      "outputs": [
        {
          "output_type": "stream",
          "name": "stdout",
          "text": [
            "Training Data:\n",
            " [[ 1]\n",
            " [ 8]\n",
            " [ 3]\n",
            " [10]\n",
            " [ 5]\n",
            " [ 4]\n",
            " [ 7]]\n",
            "Testing Data:\n",
            " [[9]\n",
            " [2]\n",
            " [6]]\n"
          ]
        }
      ]
    },
    {
      "cell_type": "code",
      "source": [
        "# Example with Real Dataset:\n",
        "from sklearn.datasets import load_iris\n",
        "from sklearn.model_selection import train_test_split\n",
        "\n",
        "# Load sample dataset\n",
        "iris = load_iris()\n",
        "X, y = iris.data, iris.target\n",
        "\n",
        "# Split into 80% training and 20% testing\n",
        "X_train, X_test, y_train, y_test = train_test_split(\n",
        "    X, y, test_size=0.2, random_state=1\n",
        ")\n",
        "\n",
        "print(\"Training set size:\", X_train.shape)\n",
        "print(\"Test set size:\", X_test.shape)\n"
      ],
      "metadata": {
        "colab": {
          "base_uri": "https://localhost:8080/"
        },
        "id": "_XIwgkcDebiv",
        "outputId": "daa9af4d-98a7-454e-a939-a94349779e4d"
      },
      "execution_count": 2,
      "outputs": [
        {
          "output_type": "stream",
          "name": "stdout",
          "text": [
            "Training set size: (120, 4)\n",
            "Test set size: (30, 4)\n"
          ]
        }
      ]
    },
    {
      "cell_type": "markdown",
      "source": [
        "11. Why do we have to perform EDA before fitting a model to the data?"
      ],
      "metadata": {
        "id": "6eYkPNqMelpE"
      }
    },
    {
      "cell_type": "markdown",
      "source": [
        "- Exploratory Data Analysis (EDA) is the process of exploring, summarizing, and visualizing data before building a machine learning model.\n",
        "- It’s like “getting to know your data” before you trust it.\n",
        "\n",
        "--> Why Perform EDA Before Fitting a Model?\n",
        "1. Understand Data Quality\n",
        "2. Understand Data Distribution\n",
        "3. Detect Outliers\n",
        "4. Identify Relationships Between Variables\n",
        "5. Handle Categorical Variables\n",
        "6. Feature Selection\n",
        "7. Prevent Garbage-In, Garbage-Out\n",
        "8. Choose the Right Model"
      ],
      "metadata": {
        "id": "dOcBnXqTfTlC"
      }
    },
    {
      "cell_type": "markdown",
      "source": [
        "12. What is correlation?"
      ],
      "metadata": {
        "id": "-7r2NlJhf2jv"
      }
    },
    {
      "cell_type": "markdown",
      "source": [
        "--> Correlation is a statistical measure that shows the strength and direction of the relationship between two variables.\n",
        "- It tells us whether changes in one variable are associated with changes in another.\n",
        "\n",
        "-->Types of Correlation\n",
        "\n",
        "1. Positive Correlation:-\n",
        "-  When one variable increases, the other also increases.\n",
        "Example: Study hours ↑ -> Exam score ↑\n",
        "\n",
        "2. Negative Correlation:-\n",
        "- When one variable increases, the other decreases.\n",
        "Example: TV watching hours ↑ → Exam score ↓\n",
        "\n",
        "3. No Correlation:-\n",
        "- When two variables don’t show any relationship.\n",
        "Example: Shoe size vs Exam score\n"
      ],
      "metadata": {
        "id": "ytXoHFFof-Nt"
      }
    },
    {
      "cell_type": "markdown",
      "source": [
        "13. What does negative correlation mean?\n"
      ],
      "metadata": {
        "id": "GkbCpckOgfC-"
      }
    },
    {
      "cell_type": "markdown",
      "source": [
        "--> When one variable increases, the other decreases.\n",
        "- Example: TV watching hours ↑ → Exam score ↓\n",
        "\n",
        "--> Negative correlation means that as one variable increases, the other variable decreases, and vice versa.\n",
        "- In other words, the two variables move in opposite directions."
      ],
      "metadata": {
        "id": "XyNVH9Gsgiyp"
      }
    },
    {
      "cell_type": "markdown",
      "source": [
        "14. How can you find correlation between variables in Python?"
      ],
      "metadata": {
        "id": "unmrgly1hBkT"
      }
    },
    {
      "cell_type": "markdown",
      "source": [
        "--> In Python, you can find the correlation between variables using libraries like pandas and numpy. The most common way is with Pearson’s correlation coefficient."
      ],
      "metadata": {
        "id": "1UEfmaSthHty"
      }
    },
    {
      "cell_type": "code",
      "source": [
        "# Using pandas:\n",
        "import pandas as pd\n",
        "\n",
        "# Sample data\n",
        "data = {\n",
        "    'Hours_Studied': [2, 4, 6, 8, 10],\n",
        "    'Exam_Score': [50, 60, 70, 80, 90],\n",
        "    'TV_Hours': [10, 8, 6, 4, 2]\n",
        "}\n",
        "\n",
        "df = pd.DataFrame(data)\n",
        "\n",
        "# Correlation matrix\n",
        "print(df.corr())\n"
      ],
      "metadata": {
        "colab": {
          "base_uri": "https://localhost:8080/"
        },
        "id": "f1c9VM8UhN4x",
        "outputId": "64785d4c-e7d0-4d61-ee73-4ca6b77e2388"
      },
      "execution_count": 3,
      "outputs": [
        {
          "output_type": "stream",
          "name": "stdout",
          "text": [
            "               Hours_Studied  Exam_Score  TV_Hours\n",
            "Hours_Studied            1.0         1.0      -1.0\n",
            "Exam_Score               1.0         1.0      -1.0\n",
            "TV_Hours                -1.0        -1.0       1.0\n"
          ]
        }
      ]
    },
    {
      "cell_type": "code",
      "source": [
        "# Using numpy:\n",
        "import numpy as np\n",
        "\n",
        "x = [2, 4, 6, 8, 10]  # Hours studied\n",
        "y = [50, 60, 70, 80, 90]  # Exam scores\n",
        "\n",
        "corr = np.corrcoef(x, y)\n",
        "print(corr)\n"
      ],
      "metadata": {
        "colab": {
          "base_uri": "https://localhost:8080/"
        },
        "id": "rMVH89Z7hUmj",
        "outputId": "cea89456-1b7e-4387-a3a5-ebc18c2e5020"
      },
      "execution_count": 4,
      "outputs": [
        {
          "output_type": "stream",
          "name": "stdout",
          "text": [
            "[[1. 1.]\n",
            " [1. 1.]]\n"
          ]
        }
      ]
    },
    {
      "cell_type": "code",
      "source": [
        "# Visualization (scatter + heatmap):\n",
        "import seaborn as sns\n",
        "import matplotlib.pyplot as plt\n",
        "\n",
        "sns.heatmap(df.corr(), annot=True, cmap=\"coolwarm\")\n",
        "plt.show()\n"
      ],
      "metadata": {
        "colab": {
          "base_uri": "https://localhost:8080/",
          "height": 435
        },
        "id": "eSyVxW-ihdiF",
        "outputId": "06a1ab9f-86e1-48e4-e1b2-11910e77c258"
      },
      "execution_count": 5,
      "outputs": [
        {
          "output_type": "display_data",
          "data": {
            "text/plain": [
              "<Figure size 640x480 with 2 Axes>"
            ],
            "image/png": "[encoded data removed]"
          },
          "metadata": {}
        }
      ]
    },
    {
      "cell_type": "markdown",
      "source": [
        "15.  What is causation? Explain difference between correlation and causation with an example."
      ],
      "metadata": {
        "id": "8Kl8YNFzhhn2"
      }
    },
    {
      "cell_type": "markdown",
      "source": [
        "--> Causation means that a change in one variable directly produces a change in another variable.\n",
        "- Variable A causes Variable B.\n",
        "- There is a cause-and-effect relationship.\n",
        "\n",
        "--> Correlation vs Causation:\n",
        "\n",
        "- Correlation: Two variables move together (positively or negatively), but it doesn’t prove that one causes the other.\n",
        "- Causation: One variable actually influences or produces a change in the other."
      ],
      "metadata": {
        "id": "LbBKvvr4hmqV"
      }
    },
    {
      "cell_type": "code",
      "source": [
        "# Example 1 (Classic)\n",
        "# Correlation: Ice cream sales and drowning cases are positively correlated.\n",
        "# Reality (Causation): Eating ice cream does not cause drowning. Instead, hot weather (a third variable) causes both:\n",
        "# People buy more ice cream.\n",
        "# People go swimming more often → risk of drowning increases."
      ],
      "metadata": {
        "id": "6XkT39EIiB7Q"
      },
      "execution_count": 6,
      "outputs": []
    },
    {
      "cell_type": "code",
      "source": [
        "# Example 2(True causation)\n",
        "# Correlation: Hours studied and exam scores are positively correlated.\n",
        "# Causation: Studying more causes better exam performance (assuming quality of study is good)."
      ],
      "metadata": {
        "id": "K8SX4ksRiJ6n"
      },
      "execution_count": 7,
      "outputs": []
    },
    {
      "cell_type": "markdown",
      "source": [
        "16. What is an Optimizer? What are different types of optimizers? Explain each with an example."
      ],
      "metadata": {
        "id": "MrGI4w7AiZUp"
      }
    },
    {
      "cell_type": "markdown",
      "source": [
        "--> An optimizer is an algorithm that updates the weights (parameters) of a machine learning or deep learning model to minimize the loss function.\n",
        "- Goal: Find the best parameters (weights) such that the model makes accurate predictions.\n",
        "- Optimizers decide how big the steps should be (learning rate) and in which direction to adjust weights based on gradients.\n",
        "\n",
        "--> Types of Optimizers (with examples):\n",
        "1. radient Descent (GD)\n",
        "\n",
        "Updates weights using the entire dataset.\n",
        "\n",
        "- Formula: w=w−η⋅∇L(w)\n",
        "- where η = learning rate,\n",
        "- ∇L(w) = gradient of loss.\n",
        "- Pros: Accurate.\n",
        "- Cons: Very slow for large datasets.\n",
        "\n",
        "--> 2. Stochastic Gradient Descent (SGD):-\n",
        "- Updates weights one sample at a time.\n",
        "- Faster but noisier compared to GD.\n",
        "- Helps escape local minima.\n",
        "- Example: Updating weights after each image in MNIST digit classification.\n",
        "3. Mini-Batch Gradient Descent:-\n",
        "- Compromise between GD and SGD.\n",
        "- Updates weights after a batch of samples (e.g., 32 or 64).\n",
        "- Most commonly used in practice.\n",
        "- Example: Training CNNs with batch size = 64.\n",
        "4. Momentum:-\n",
        "- Improves SGD by adding a velocity term (remembers past gradients).\n",
        "- Prevents oscillations and accelerates convergence.\n",
        "- Formula:\n",
        "vt​=βvt−1​+η∇L(w)\n",
        "w=w−vt​\n",
        "- Example: Helps smoother convergence when training deep networks.\n",
        "5. AdaGrad (Adaptive Gradient):-\n",
        "- Adjusts learning rate for each parameter individually.\n",
        "- Parameters with frequent updates get smaller learning rates.\n",
        "- Good for sparse data (like NLP).\n",
        "- Example: Text classification where some words appear very frequently.\n",
        "6. RMSProp (Root Mean Square Propagation):-\n",
        "- Fixes AdaGrad’s issue of learning rate shrinking too much.\n",
        "- Uses moving average of squared gradients.\n",
        "- Good for RNNs and deep networks.\n",
        "- Example: Training an RNN on time-series forecasting.\n",
        "7. Adam (Adaptive Moment Estimation)\n",
        "- Most popular optimizer.\n",
        "- Combines Momentum + RMSProp.\n",
        "- Maintains moving averages of both gradients and squared gradients.\n",
        "- Adapts learning rate for each parameter.\n",
        "- Example: Used in most deep learning frameworks (CNNs, Transformers).\n",
        "\n",
        "8. Nadam (Nesterov-accelerated Adam):-\n",
        "- Adam + Nesterov Momentum.\n",
        "- Provides lookahead gradient → faster convergence.\n",
        "- Example: Training GANs or NLP models.\n",
        "\n"
      ],
      "metadata": {
        "id": "imDpyo9RidOH"
      }
    },
    {
      "cell_type": "markdown",
      "source": [
        "17.  What is sklearn.linear_model ?"
      ],
      "metadata": {
        "id": "DNqpTdbIK0Ca"
      }
    },
    {
      "cell_type": "markdown",
      "source": [
        "--> In Scikit-learn (sklearn), the module sklearn.linear_model contains classes and functions for implementing linear models for regression and classification.\n",
        "- A linear model makes predictions based on a linear combination of input features:y=w1​x1​+w2​x2​+⋯+wn​xn​+b\n",
        "- Where:\n",
        "- xi = input features\n",
        "- 𝑤𝑖= model weights (coefficients)\n",
        "- 𝑏 = bias (intercept)"
      ],
      "metadata": {
        "id": "CJjYjnQjK4NE"
      }
    },
    {
      "cell_type": "markdown",
      "source": [
        "18. What does model.fit() do? What arguments must be given?"
      ],
      "metadata": {
        "id": "uRynz8mkLbUJ"
      }
    },
    {
      "cell_type": "markdown",
      "source": [
        "--> What model.fit() does:-\n",
        "- In machine learning / deep learning frameworks (like Keras, TensorFlow, scikit-learn), model.fit() is the method used to train a model on your dataset.\n",
        "- It takes in your training data (X) and corresponding labels (y).\n",
        "- It passes the data through the model (forward pass).\n",
        "- It computes the error (loss).\n",
        "- It updates the model’s parameters using an optimizer (backpropagation).\n",
        "- It repeats this process for several epochs until the model learns.\n",
        "\n",
        "--> Arguments:-\n",
        "-  The exact required arguments depend on the library (scikit-learn vs Keras/TensorFlow), but generally:\n",
        "1. In scikit-learn (sklearn):\n",
        "- X: Features (2D array or DataFrame of shape (n_samples, n_features)).\n",
        "- y: Labels/targets (1D array of shape (n_samples,) for classification or regression).\n",
        "2. In Keras/TensorFlow (tf.keras):\n",
        "- x: Training data (NumPy array, Tensor, or tf.data dataset).\n",
        "- y: Training labels.\n",
        "-  epochs: Number of times the model sees the entire dataset (default = 1).\n",
        "- batch_size: Number of samples per gradient update.\n",
        "- validation_data: Optional (x_val, y_val) tuple for checking performance during training."
      ],
      "metadata": {
        "id": "3XBu1AqVLe0j"
      }
    },
    {
      "cell_type": "code",
      "source": [
        "# Example of scikit -learn :\n",
        "model.fit(X, y)\n",
        "from sklearn.linear_model import LinearRegression\n",
        "\n",
        "model = LinearRegression()\n",
        "model.fit(X_train, y_train)\n"
      ],
      "metadata": {
        "id": "8-e0Dy2IM8Xn",
        "colab": {
          "base_uri": "https://localhost:8080/",
          "height": 211
        },
        "outputId": "297af6f0-ad91-4910-cf92-55b4da1cc376"
      },
      "execution_count": 9,
      "outputs": [
        {
          "output_type": "error",
          "ename": "NameError",
          "evalue": "name 'model' is not defined",
          "traceback": [
            "\u001b[0;31m---------------------------------------------------------------------------\u001b[0m",
            "\u001b[0;31mNameError\u001b[0m                                 Traceback (most recent call last)",
            "\u001b[0;32m/tmp/ipython-input-4266821932.py\u001b[0m in \u001b[0;36m<cell line: 0>\u001b[0;34m()\u001b[0m\n\u001b[1;32m      1\u001b[0m \u001b[0;31m# Example of scikit -learn :\u001b[0m\u001b[0;34m\u001b[0m\u001b[0;34m\u001b[0m\u001b[0m\n\u001b[0;32m----> 2\u001b[0;31m \u001b[0mmodel\u001b[0m\u001b[0;34m.\u001b[0m\u001b[0mfit\u001b[0m\u001b[0;34m(\u001b[0m\u001b[0mX\u001b[0m\u001b[0;34m,\u001b[0m \u001b[0my\u001b[0m\u001b[0;34m)\u001b[0m\u001b[0;34m\u001b[0m\u001b[0;34m\u001b[0m\u001b[0m\n\u001b[0m\u001b[1;32m      3\u001b[0m \u001b[0;32mfrom\u001b[0m \u001b[0msklearn\u001b[0m\u001b[0;34m.\u001b[0m\u001b[0mlinear_model\u001b[0m \u001b[0;32mimport\u001b[0m \u001b[0mLinearRegression\u001b[0m\u001b[0;34m\u001b[0m\u001b[0;34m\u001b[0m\u001b[0m\n\u001b[1;32m      4\u001b[0m \u001b[0;34m\u001b[0m\u001b[0m\n\u001b[1;32m      5\u001b[0m \u001b[0mmodel\u001b[0m \u001b[0;34m=\u001b[0m \u001b[0mLinearRegression\u001b[0m\u001b[0;34m(\u001b[0m\u001b[0;34m)\u001b[0m\u001b[0;34m\u001b[0m\u001b[0;34m\u001b[0m\u001b[0m\n",
            "\u001b[0;31mNameError\u001b[0m: name 'model' is not defined"
          ]
        }
      ]
    },
    {
      "cell_type": "markdown",
      "source": [
        "19. What does model.predict() do? What arguments must be given?"
      ],
      "metadata": {
        "id": "SXHHbWv-Nlj3"
      }
    },
    {
      "cell_type": "markdown",
      "source": [
        "-->What model.predict() does:-\n",
        "- In machine learning frameworks like TensorFlow/Keras or scikit-learn,\n",
        "model.predict() is used to generate predictions (outputs) from a trained model, given new input data.\n",
        "- It takes the input features and runs them through the trained model to output predictions (like class probabilities, regression values, or labels).\n",
        "- Arguments of model.predict():\n",
        "1. In Keras / TensorFlow (keras.Model.predict):\n",
        "- x -> Input data (numpy array, Tensor, dataset, or list of arrays). Required.\n",
        "-  batch_size -> Number of samples per prediction batch (default: 32).\n",
        "- verbose -> Whether to display progress (0 = silent, 1 = progress bar, 2 = one line per epoch).\n",
        "- steps -> Total number of prediction steps (only needed for generators/datasets).\n",
        " - return_dict -> (Optional) If True, returns a dict instead of list for multi-output models.\n"
      ],
      "metadata": {
        "id": "m2MarPfNNry0"
      }
    },
    {
      "cell_type": "markdown",
      "source": [
        "20. What are continuous and categorical variables?"
      ],
      "metadata": {
        "id": "6R1DZrHUTwwK"
      }
    },
    {
      "cell_type": "markdown",
      "source": [
        "-->\n",
        "1. Continuous Variables:-\n",
        "- Definition: Continuous variables are numerical values that can take any value within a range.\n",
        "- They can be measured (not just counted).\n",
        "- Can have decimal values.\n",
        "- Example: Height (170.2 cm), Weight (65.8 kg), Temperature (36.7°C), Time (2.35 seconds).\n",
        "- Continuous variables are often split into:\n",
        "- Interval variables (differences are meaningful, but no true zero, e.g., temperature in Celsius).\n",
        "- Ratio variables (differences and ratios are meaningful, has a true zero, e.g., weight, height, age).\n",
        "\n",
        "-->2. Categorical Variables:-\n",
        "- Definition: Categorical variables represent categories, groups, or labels.\n",
        "- They are qualitative, not numerical in nature (though sometimes represented by numbers as codes).\n",
        "- Example: Gender (Male/Female/Other), Colors (Red, Blue, Green), Education Level (High School, Bachelor’s, Master’s).\n",
        "- Categorical variables are often split into:\n",
        "- Nominal variables: Categories with no natural order (e.g., blood group: A, B, AB, O).\n",
        "- Ordinal variables: Categories with a meaningful order but no fixed numerical difference (e.g., Low, Medium, High; or education levels)."
      ],
      "metadata": {
        "id": "T8hKVpYjTzJZ"
      }
    },
    {
      "cell_type": "markdown",
      "source": [
        "21. What is feature scaling? How does it help in Machine Learning?"
      ],
      "metadata": {
        "id": "JyEOgaiVURyq"
      }
    },
    {
      "cell_type": "markdown",
      "source": [
        "-->\n",
        "Feature scaling is the process of normalizing or standardizing the range of independent variables (features) so that they are on a similar scale.\n",
        "- In other words, it adjusts numerical feature values to a common range (like 0–1 or mean = 0, std = 1).\n",
        "- how does it help ML:\n",
        "- Many machine learning algorithms are distance-based or gradient-based, meaning they are sensitive to the magnitude of features.\n",
        "- If features have very different scales, models may give higher importance to larger values, even if they are not more important.\n",
        "- Makes training faster.\n",
        "- Improves accuracy in distance-based models\n",
        "- Makes coefficients comparable\n",
        "- Handles skewed data\n",
        "- Improves performance of dimensionality reduction"
      ],
      "metadata": {
        "id": "jvKX--yRUVaf"
      }
    },
    {
      "cell_type": "markdown",
      "source": [
        "22. How do we perform scaling in Python?"
      ],
      "metadata": {
        "id": "cuPExmC6U6Dl"
      }
    },
    {
      "cell_type": "markdown",
      "source": [
        "-->\n",
        "1. Import Required Libraries\n",
        "2. Sample Dataset\n",
        "3. Min-Max Scaling (Normalization: 0–1 range)\n",
        "4. Standardization (Z-score scaling: mean=0, std=1)\n",
        "5. Robust Scaling (less sensitive to outliers)\n",
        "6. Convert Back to DataFrame (Optional)"
      ],
      "metadata": {
        "id": "XvxJc_zvU9Vx"
      }
    },
    {
      "cell_type": "code",
      "source": [
        "# Import Required Libraries:\n",
        "import numpy as np\n",
        "import pandas as pd\n",
        "from sklearn.preprocessing import MinMaxScaler, StandardScaler, RobustScaler\n"
      ],
      "metadata": {
        "id": "gAqVaJjzVI42"
      },
      "execution_count": 12,
      "outputs": []
    },
    {
      "cell_type": "code",
      "source": [
        "# Eample of Sample Dataset:\n",
        "# Example dataset\n",
        "data = {\n",
        "    \"Age\": [20, 25, 30, 35, 40],\n",
        "    \"Income\": [20000, 35000, 50000, 70000, 100000]\n",
        "}\n",
        "\n",
        "df = pd.DataFrame(data)\n",
        "print(\"Original Data:\\n\", df)\n"
      ],
      "metadata": {
        "colab": {
          "base_uri": "https://localhost:8080/"
        },
        "id": "Go1ulTblVS7k",
        "outputId": "26743c4e-6a9d-4002-cbdf-5ea2971b9436"
      },
      "execution_count": 13,
      "outputs": [
        {
          "output_type": "stream",
          "name": "stdout",
          "text": [
            "Original Data:\n",
            "    Age  Income\n",
            "0   20   20000\n",
            "1   25   35000\n",
            "2   30   50000\n",
            "3   35   70000\n",
            "4   40  100000\n"
          ]
        }
      ]
    },
    {
      "cell_type": "code",
      "source": [
        "# Example Min-Max Scaling (Normalization: 0–1 range):\n",
        "scaler = MinMaxScaler()\n",
        "df_minmax = scaler.fit_transform(df)\n",
        "\n",
        "print(\"\\nMin-Max Scaled Data:\\n\", df_minmax)\n"
      ],
      "metadata": {
        "colab": {
          "base_uri": "https://localhost:8080/"
        },
        "id": "EG2ulW92Vasq",
        "outputId": "be1df624-72b7-48de-b6ef-f822f6356fb9"
      },
      "execution_count": 14,
      "outputs": [
        {
          "output_type": "stream",
          "name": "stdout",
          "text": [
            "\n",
            "Min-Max Scaled Data:\n",
            " [[0.     0.    ]\n",
            " [0.25   0.1875]\n",
            " [0.5    0.375 ]\n",
            " [0.75   0.625 ]\n",
            " [1.     1.    ]]\n"
          ]
        }
      ]
    },
    {
      "cell_type": "code",
      "source": [
        "# Example of Standardization (Z-score scaling: mean=0, std=1):\n",
        "scaler = StandardScaler()\n",
        "df_standard = scaler.fit_transform(df)\n",
        "\n",
        "print(\"\\nStandardized Data:\\n\", df_standard)\n"
      ],
      "metadata": {
        "colab": {
          "base_uri": "https://localhost:8080/"
        },
        "id": "Js3gKft1VjeE",
        "outputId": "002e1eea-c54e-4f32-9797-9dcc4b243617"
      },
      "execution_count": 15,
      "outputs": [
        {
          "output_type": "stream",
          "name": "stdout",
          "text": [
            "\n",
            "Standardized Data:\n",
            " [[-1.41421356 -1.25320103]\n",
            " [-0.70710678 -0.71611487]\n",
            " [ 0.         -0.17902872]\n",
            " [ 0.70710678  0.53708616]\n",
            " [ 1.41421356  1.61125847]]\n"
          ]
        }
      ]
    },
    {
      "cell_type": "code",
      "source": [
        "#  Example of Robust Scaling (less sensitive to outliers):\n",
        "scaler = RobustScaler()\n",
        "df_robust = scaler.fit_transform(df)\n",
        "\n",
        "print(\"\\nRobust Scaled Data:\\n\", df_robust)\n"
      ],
      "metadata": {
        "colab": {
          "base_uri": "https://localhost:8080/"
        },
        "id": "kOQ2GrUrVtmD",
        "outputId": "e52da9f0-ee06-46b9-8f10-942d178da8ac"
      },
      "execution_count": 16,
      "outputs": [
        {
          "output_type": "stream",
          "name": "stdout",
          "text": [
            "\n",
            "Robust Scaled Data:\n",
            " [[-1.         -0.85714286]\n",
            " [-0.5        -0.42857143]\n",
            " [ 0.          0.        ]\n",
            " [ 0.5         0.57142857]\n",
            " [ 1.          1.42857143]]\n"
          ]
        }
      ]
    },
    {
      "cell_type": "code",
      "source": [
        "# Example of Convert Back to DataFrame (Optional)\n",
        "df_scaled = pd.DataFrame(df_standard, columns=df.columns)\n",
        "print(\"\\nDataFrame after Scaling:\\n\", df_scaled)\n"
      ],
      "metadata": {
        "colab": {
          "base_uri": "https://localhost:8080/"
        },
        "id": "xSR1N5tMV3p3",
        "outputId": "9828baf9-5a25-4843-b8d7-9147fd5e9175"
      },
      "execution_count": 17,
      "outputs": [
        {
          "output_type": "stream",
          "name": "stdout",
          "text": [
            "\n",
            "DataFrame after Scaling:\n",
            "         Age    Income\n",
            "0 -1.414214 -1.253201\n",
            "1 -0.707107 -0.716115\n",
            "2  0.000000 -0.179029\n",
            "3  0.707107  0.537086\n",
            "4  1.414214  1.611258\n"
          ]
        }
      ]
    },
    {
      "cell_type": "markdown",
      "source": [
        "23. What is sklearn.preprocessing?"
      ],
      "metadata": {
        "id": "fZrR_bWDV8Ii"
      }
    },
    {
      "cell_type": "markdown",
      "source": [
        "--> sklearn.preprocessing is a module in Scikit-Learn that provides tools for data preprocessing, i.e., transforming raw data into a suitable format before feeding it to machine learning algorithms.\n",
        "- It includes functions for:\n",
        "1. Feature scaling (normalization, standardization, robust scaling)\n",
        "2. Encoding categorical variables (label encoding, one-hot encoding)\n",
        "3. Generating polynomial features\n",
        "4. Imputation (handling missing values)\n",
        "5. Binarization and discretization"
      ],
      "metadata": {
        "id": "I_1T6HvrV-sy"
      }
    },
    {
      "cell_type": "markdown",
      "source": [
        "24. How do we split data for model fitting (training and testing) in Python?"
      ],
      "metadata": {
        "id": "GHozc3XtWOlK"
      }
    },
    {
      "cell_type": "markdown",
      "source": [
        "-->Why Split Data?\n",
        "- Training set -> used to train the model (teach it patterns).\n",
        "-  Testing set -> used to evaluate the model’s performance on unseen data.\n",
        "- This helps check generalization ability (how well the model works on new data).\n",
        "-->Splitting Data in Python (using Scikit-Learn)"
      ],
      "metadata": {
        "id": "4ABlVnIlWRTS"
      }
    },
    {
      "cell_type": "code",
      "source": [
        "# Example of Splitting Data in Python (using Scikit-Learn):\n",
        "import pandas as pd\n",
        "from sklearn.model_selection import train_test_split\n",
        "\n",
        "# Sample dataset\n",
        "data = {\n",
        "    \"Age\": [20, 25, 30, 35, 40, 45, 50, 55],\n",
        "    \"Salary\": [20000, 25000, 30000, 35000, 40000, 45000, 50000, 55000],\n",
        "    \"Purchased\": [0, 0, 0, 1, 1, 1, 1, 1]  # Target (0 = No, 1 = Yes)\n",
        "}\n",
        "\n",
        "df = pd.DataFrame(data)\n",
        "\n",
        "# Features (X) and Target (y)\n",
        "X = df[[\"Age\", \"Salary\"]]   # Independent variables\n",
        "y = df[\"Purchased\"]         # Dependent variable\n",
        "\n",
        "# Split dataset into training and testing\n",
        "X_train, X_test, y_train, y_test = train_test_split(\n",
        "    X, y, test_size=0.2, random_state=42\n",
        ")\n",
        "\n",
        "print(\"Training Features:\\n\", X_train)\n",
        "print(\"\\nTesting Features:\\n\", X_test)\n"
      ],
      "metadata": {
        "colab": {
          "base_uri": "https://localhost:8080/"
        },
        "id": "BL6KrryMWfdz",
        "outputId": "ab84842c-13bb-4a5a-dfd0-b612cc24d8dd"
      },
      "execution_count": 18,
      "outputs": [
        {
          "output_type": "stream",
          "name": "stdout",
          "text": [
            "Training Features:\n",
            "    Age  Salary\n",
            "0   20   20000\n",
            "7   55   55000\n",
            "2   30   30000\n",
            "4   40   40000\n",
            "3   35   35000\n",
            "6   50   50000\n",
            "\n",
            "Testing Features:\n",
            "    Age  Salary\n",
            "1   25   25000\n",
            "5   45   45000\n"
          ]
        }
      ]
    },
    {
      "cell_type": "markdown",
      "source": [
        "25.  Explain data encoding?"
      ],
      "metadata": {
        "id": "_SPGBMvnWkMj"
      }
    },
    {
      "cell_type": "markdown",
      "source": [
        "--> Data encoding is the process of converting categorical (non-numeric) data into numeric format so that machine learning algorithms can use it.\n",
        "-   Most ML models work only with numerical inputs.\n",
        "-  Example: If we have a column \"Color\" with values \"Red\", \"Blue\", \"Green\", the model cannot understand text. We need to convert them into numbers."
      ],
      "metadata": {
        "id": "QnqjnkJGWp4l"
      }
    }
  ]
}